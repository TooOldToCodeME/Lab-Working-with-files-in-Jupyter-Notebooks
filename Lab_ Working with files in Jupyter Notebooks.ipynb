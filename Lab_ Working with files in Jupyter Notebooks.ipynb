{
 "cells": [
  {
   "cell_type": "markdown",
   "id": "7b9c5da3-c2e1-4d30-94cc-33248bc0f076",
   "metadata": {},
   "source": [
    "# Data Science Tools and Ecosystem"
   ]
  },
  {
   "cell_type": "markdown",
   "id": "aaf10245-c232-4b1a-b600-3e4bba52e6b5",
   "metadata": {},
   "source": [
    "In this notebook, Data Science Tools and Ecosystem are summarized."
   ]
  },
  {
   "cell_type": "markdown",
   "id": "f70c6988-554a-4d59-b89f-5f1a4844ebd5",
   "metadata": {},
   "source": [
    "##### Objectives:\n",
    "- Popular languages for Data Science\n",
    "- Tools for Data Science\n",
    "- Packages, APIs, Data Sets and Models\n",
    "- Jupiter notebook and Jupiter Lab"
   ]
  },
  {
   "cell_type": "markdown",
   "id": "a8428ccc-6d88-417c-876e-cc9c0775c2a0",
   "metadata": {},
   "source": [
    "Some of the popular languages that Data Scientists use are:\n",
    "1. Python\n",
    "2. R\n",
    "3. SQL\n",
    "4. Julia\n",
    "5. Scala"
   ]
  },
  {
   "cell_type": "markdown",
   "id": "5c7e382c-0aa8-4d4a-8a7d-d6c85a81daea",
   "metadata": {},
   "source": [
    "Some of the commonly used libraries used by Data Scientists include:\n",
    "1. Numpy\n",
    "2. Pandas\n",
    "3. Matplotlib\n",
    "4. Seaborn\n",
    "5. SciPy"
   ]
  },
  {
   "cell_type": "markdown",
   "id": "bcee00c5-b11a-4d3b-870c-c6a614f42673",
   "metadata": {},
   "source": [
    "|Data Science Tools| \n",
    "|------|\n",
    "|Jupiter Notebook|\n",
    "|RStudio|\n",
    "|Microsoft Visual Studio|\n"
   ]
  },
  {
   "cell_type": "markdown",
   "id": "856702b1-51fc-4abe-90fe-f4fda139f4de",
   "metadata": {},
   "source": [
    "### Below are a few examples of evaluating arithmetic expressions in Python"
   ]
  },
  {
   "cell_type": "code",
   "execution_count": 1,
   "id": "59177d48-fde3-4a66-8078-52922b6ecdd5",
   "metadata": {},
   "outputs": [
    {
     "data": {
      "text/plain": [
       "17"
      ]
     },
     "execution_count": 1,
     "metadata": {},
     "output_type": "execute_result"
    }
   ],
   "source": [
    "#This a simple arithmetic expression to multiply then add integers\n",
    "(3*4)+5"
   ]
  },
  {
   "cell_type": "code",
   "execution_count": 2,
   "id": "721bc7e2-4493-4070-9868-d662dc1075c0",
   "metadata": {},
   "outputs": [
    {
     "data": {
      "text/plain": [
       "3.3333333333333335"
      ]
     },
     "execution_count": 2,
     "metadata": {},
     "output_type": "execute_result"
    }
   ],
   "source": [
    "#This will convert 200 minutes to hours by diving by 60\n",
    "200/60"
   ]
  },
  {
   "cell_type": "markdown",
   "id": "ba69aa74-fb08-45ba-a820-ddf083ff64db",
   "metadata": {},
   "source": [
    "## Author\n",
    "Serhii Korkishko"
   ]
  },
  {
   "cell_type": "code",
   "execution_count": null,
   "id": "ed37d870-0866-41d5-a481-a9b0344d9f76",
   "metadata": {},
   "outputs": [],
   "source": []
  }
 ],
 "metadata": {
  "kernelspec": {
   "display_name": "Python 3 (ipykernel)",
   "language": "python",
   "name": "python3"
  },
  "language_info": {
   "codemirror_mode": {
    "name": "ipython",
    "version": 3
   },
   "file_extension": ".py",
   "mimetype": "text/x-python",
   "name": "python",
   "nbconvert_exporter": "python",
   "pygments_lexer": "ipython3",
   "version": "3.11.9"
  }
 },
 "nbformat": 4,
 "nbformat_minor": 5
}
